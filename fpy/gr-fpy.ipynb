{
 "metadata": {
  "language_info": {
   "codemirror_mode": {
    "name": "ipython",
    "version": 3
   },
   "file_extension": ".py",
   "mimetype": "text/x-python",
   "name": "python",
   "nbconvert_exporter": "python",
   "pygments_lexer": "ipython3",
   "version": "3.8.5-final"
  },
  "orig_nbformat": 2,
  "kernelspec": {
   "name": "python3",
   "display_name": "Python 3"
  }
 },
 "nbformat": 4,
 "nbformat_minor": 2,
 "cells": [
  {
   "cell_type": "code",
   "execution_count": 3,
   "metadata": {},
   "outputs": [],
   "source": [
    "import pandas as pd\n",
    "import numpy as np\n",
    "import matplotlib.pyplot as plt\n",
    "import seaborn as sns\n",
    "%matplotlib inline\n",
    "plt.style.use('ggplot')"
   ]
  },
  {
   "cell_type": "code",
   "execution_count": 48,
   "metadata": {},
   "outputs": [],
   "source": [
    "df = pd.read_excel('Data/GRFPY.xlsx', \n",
    "                    skiprows=2,\n",
    "                    index_col=0,\n",
    "                    parse_dates=True,)\n",
    "\n",
    "delta = pd.to_timedelta(df.groupby(level=0).cumcount(), unit='ms')\n",
    "df.index = df.index + delta\n",
    "df.index.rename('Date', inplace=True)\n",
    "\n",
    "df.rename(columns= {'Model':'model', \n",
    "                    'Serial Number':'sn', \n",
    "                    'Test Location':'tester', \n",
    "                    'Symptom Description':'symptom',\n",
    "                    'Action Description':'action', \n",
    "                    'Operator Name':'op', \n",
    "                    'Log Comments':'comment'},\n",
    "                    inplace=True)\n",
    "\n",
    "df['gas'] = df['model'].str.extract(r'(LP)')\n",
    "df['gas'].fillna('NG', inplace=True)\n",
    "\n",
    "indexDF = df['model'].str.startswith('DF').index\n",
    "# df.drop(indexDF, inplace=True)\n",
    "# indexI = df['model'].str.startswith('I')\n",
    "# df.drop(indexI, inplace=True)\n",
    "# indexCG = df['model'].str.startswith('CG')\n",
    "# df.drop(indexCG, inplace=True)\n",
    "\n",
    "\n",
    "\n",
    "\n"
   ]
  },
  {
   "cell_type": "code",
   "execution_count": 53,
   "metadata": {},
   "outputs": [
    {
     "output_type": "execute_result",
     "data": {
      "text/plain": [
       "Date\n",
       "2020-12-04 12:42:00.000    False\n",
       "2020-12-04 12:40:00.000    False\n",
       "2020-12-04 12:37:00.000    False\n",
       "2020-12-04 12:17:00.000    False\n",
       "2020-12-04 12:07:00.000    False\n",
       "                           ...  \n",
       "2019-01-02 06:12:00.000    False\n",
       "2019-01-02 06:12:00.001    False\n",
       "2019-01-02 06:10:00.000    False\n",
       "2019-01-02 06:07:00.000    False\n",
       "2019-01-02 05:43:00.000    False\n",
       "Name: model, Length: 110435, dtype: bool"
      ]
     },
     "metadata": {},
     "execution_count": 53
    }
   ],
   "source": [
    "df['model'].str.startswith('DF')"
   ]
  }
 ]
}