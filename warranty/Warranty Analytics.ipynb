{
 "metadata": {
  "language_info": {
   "codemirror_mode": {
    "name": "ipython",
    "version": 3
   },
   "file_extension": ".py",
   "mimetype": "text/x-python",
   "name": "python",
   "nbconvert_exporter": "python",
   "pygments_lexer": "ipython3",
   "version": "3.7.6-final"
  },
  "orig_nbformat": 2,
  "kernelspec": {
   "name": "python3",
   "display_name": "Python 3"
  }
 },
 "nbformat": 4,
 "nbformat_minor": 2,
 "cells": [
  {
   "cell_type": "code",
   "execution_count": 41,
   "metadata": {},
   "outputs": [],
   "source": [
    "import numpy as np\n",
    "import pandas as pd\n",
    "import seaborn as sns\n",
    "import matplotlib.pyplot as plt\n",
    "%matplotlib inline"
   ]
  },
  {
   "cell_type": "code",
   "execution_count": 38,
   "metadata": {},
   "outputs": [],
   "source": [
    "df = pd.read_excel('ServiceClaims.xlsx', \n",
    "                    skiprows=[0,1],\n",
    "                    usecols=[0,2,3,5,6,7,8],\n",
    "                    na_values='NULL',\n",
    "                    index_col=6)"
   ]
  },
  {
   "cell_type": "code",
   "execution_count": 39,
   "metadata": {},
   "outputs": [],
   "source": [
    "df['Size'] = df['Model Group'].str.split(' ').str.get(0)\n",
    "df['Size'] = df['Size'].str.split('IN').str.get(0)\n",
    "df['Model Group'] = df['Model Group'].str.split(' ').str.get(1)\n",
    "\n",
    "models = {'DUAL':'DF', \n",
    "        'INDUCTION':'IR', \n",
    "        'GAS':'GR', \n",
    "        'SRT':'SRT', \n",
    "        'CONTEMP':'CGCT', \n",
    "        'IN':'DF'}\n",
    "        \n",
    "df['Model Group'].replace(to_replace=models, inplace=True)"
   ]
  },
  {
   "cell_type": "code",
   "execution_count": 40,
   "metadata": {},
   "outputs": [
    {
     "output_type": "execute_result",
     "data": {
      "text/plain": [
       "                          ticketId  Serial Number       Ticket Type  \\\n",
       "Ticket Received Date                                                  \n",
       "2017-11-22 19:48:56   t6UJ9A05W2FK       18350882           Service   \n",
       "2017-12-11 15:22:40   t6UJ9A05WMU2       18350608           Service   \n",
       "2017-12-12 16:30:46   t6UJ9A05WOOF       17639390           Service   \n",
       "2017-12-13 17:19:40   t6UJ9A05WQG7       17639390           Service   \n",
       "2017-12-18 06:00:00   t6UJ9A05WW48       18350728  Claim - Warranty   \n",
       "\n",
       "                     Model Group                           Mode  \\\n",
       "Ticket Received Date                                              \n",
       "2017-11-22 19:48:56           DF                            NaN   \n",
       "2017-12-11 15:22:40           DF                            NaN   \n",
       "2017-12-12 16:30:46           IR                  THERMAL EVENT   \n",
       "2017-12-13 17:19:40           IR                 NON RESPONSIVE   \n",
       "2017-12-18 06:00:00           DF  SLOW HEATING / INCORRECT TEMP   \n",
       "\n",
       "                                     Part Size  \n",
       "Ticket Received Date                            \n",
       "2017-11-22 19:48:56                   NaN   36  \n",
       "2017-12-11 15:22:40                   NaN   48  \n",
       "2017-12-12 16:30:46                 GLASS   30  \n",
       "2017-12-13 17:19:40                 GLASS   30  \n",
       "2017-12-18 06:00:00   WIRING / CONNECTION   48  "
      ],
      "text/html": "<div>\n<style scoped>\n    .dataframe tbody tr th:only-of-type {\n        vertical-align: middle;\n    }\n\n    .dataframe tbody tr th {\n        vertical-align: top;\n    }\n\n    .dataframe thead th {\n        text-align: right;\n    }\n</style>\n<table border=\"1\" class=\"dataframe\">\n  <thead>\n    <tr style=\"text-align: right;\">\n      <th></th>\n      <th>ticketId</th>\n      <th>Serial Number</th>\n      <th>Ticket Type</th>\n      <th>Model Group</th>\n      <th>Mode</th>\n      <th>Part</th>\n      <th>Size</th>\n    </tr>\n    <tr>\n      <th>Ticket Received Date</th>\n      <th></th>\n      <th></th>\n      <th></th>\n      <th></th>\n      <th></th>\n      <th></th>\n      <th></th>\n    </tr>\n  </thead>\n  <tbody>\n    <tr>\n      <th>2017-11-22 19:48:56</th>\n      <td>t6UJ9A05W2FK</td>\n      <td>18350882</td>\n      <td>Service</td>\n      <td>DF</td>\n      <td>NaN</td>\n      <td>NaN</td>\n      <td>36</td>\n    </tr>\n    <tr>\n      <th>2017-12-11 15:22:40</th>\n      <td>t6UJ9A05WMU2</td>\n      <td>18350608</td>\n      <td>Service</td>\n      <td>DF</td>\n      <td>NaN</td>\n      <td>NaN</td>\n      <td>48</td>\n    </tr>\n    <tr>\n      <th>2017-12-12 16:30:46</th>\n      <td>t6UJ9A05WOOF</td>\n      <td>17639390</td>\n      <td>Service</td>\n      <td>IR</td>\n      <td>THERMAL EVENT</td>\n      <td>GLASS</td>\n      <td>30</td>\n    </tr>\n    <tr>\n      <th>2017-12-13 17:19:40</th>\n      <td>t6UJ9A05WQG7</td>\n      <td>17639390</td>\n      <td>Service</td>\n      <td>IR</td>\n      <td>NON RESPONSIVE</td>\n      <td>GLASS</td>\n      <td>30</td>\n    </tr>\n    <tr>\n      <th>2017-12-18 06:00:00</th>\n      <td>t6UJ9A05WW48</td>\n      <td>18350728</td>\n      <td>Claim - Warranty</td>\n      <td>DF</td>\n      <td>SLOW HEATING / INCORRECT TEMP</td>\n      <td>WIRING / CONNECTION</td>\n      <td>48</td>\n    </tr>\n  </tbody>\n</table>\n</div>"
     },
     "metadata": {},
     "execution_count": 40
    }
   ],
   "source": [
    "df.head()"
   ]
  }
 ]
}